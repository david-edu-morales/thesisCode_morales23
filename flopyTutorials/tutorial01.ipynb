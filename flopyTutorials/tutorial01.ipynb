{
 "cells": [
  {
   "cell_type": "code",
   "execution_count": 1,
   "metadata": {},
   "outputs": [],
   "source": [
    "import numpy as np\n",
    "import flopy"
   ]
  },
  {
   "attachments": {},
   "cell_type": "markdown",
   "metadata": {},
   "source": [
    "##### Create Flopy model object"
   ]
  },
  {
   "cell_type": "code",
   "execution_count": 14,
   "metadata": {},
   "outputs": [],
   "source": [
    "modelname = \"tutorial01_mf\"\n",
    "mf        = flopy.modflow.Modflow(modelname, exe_name='../basinModel/mf2005')"
   ]
  },
  {
   "attachments": {},
   "cell_type": "markdown",
   "metadata": {},
   "source": [
    "### 2. Discretization\n",
    "##### 2.1 Define model domain and create MODFLOW grid"
   ]
  },
  {
   "cell_type": "code",
   "execution_count": 7,
   "metadata": {},
   "outputs": [],
   "source": [
    "Lx = 1000\n",
    "Ly = 1000\n",
    "ztop = 0\n",
    "zbot = -50\n",
    "nlay = 1\n",
    "nrow = 10\n",
    "ncol = 10\n",
    "delr = Lx / ncol\n",
    "delc = Ly / nrow\n",
    "delv = (ztop-zbot) / nlay\n",
    "botm = np.linspace(ztop, zbot, nlay + 1)"
   ]
  },
  {
   "attachments": {},
   "cell_type": "markdown",
   "metadata": {},
   "source": [
    "##### 2.2 Create Flopy discretization object (DIS)"
   ]
  },
  {
   "cell_type": "code",
   "execution_count": 5,
   "metadata": {},
   "outputs": [],
   "source": [
    "dis = flopy.modflow.ModflowDis(\n",
    "    mf, nlay, nrow, ncol, delr=delr, delc=delc, top=ztop, botm=botm[1:]\n",
    ")"
   ]
  },
  {
   "attachments": {},
   "cell_type": "markdown",
   "metadata": {},
   "source": [
    "### 3. Basic Package (BAS)\n",
    "##### 3.1 Assign initial head values"
   ]
  },
  {
   "cell_type": "code",
   "execution_count": 9,
   "metadata": {},
   "outputs": [],
   "source": [
    "#==== Set first and last column to type 1 boundaries ==========================\n",
    "ibound = np.ones((nlay, nrow, ncol), dtype=np.int32)\n",
    "ibound[:,:,0]  = -1\n",
    "ibound[:,:,-1] = -1\n",
    "#==== Assign values to constant head boundaries================================\n",
    "strt = np.ones((nlay, nrow, ncol), dtype=np.float32)\n",
    "strt[:,:,0]  = 10\n",
    "strt[:,:,-1] = 0\n",
    "\n",
    "bas = flopy.modflow.ModflowBas(mf, ibound=ibound, strt=strt)"
   ]
  },
  {
   "attachments": {},
   "cell_type": "markdown",
   "metadata": {},
   "source": [
    "### 4. Layer-Property Flow Package (LPF)\n",
    "##### 4.1 Assign hydraulic conductivity values for cells"
   ]
  },
  {
   "cell_type": "code",
   "execution_count": 10,
   "metadata": {},
   "outputs": [],
   "source": [
    "#==== Assign values to vertical and horizontal hydraulic conductivities ======\n",
    "hk = 10; vk = 10\n",
    "\n",
    "lpf = flopy.modflow.ModflowLpf(mf, hk=hk, vka=vk, ipakcb=53)"
   ]
  },
  {
   "attachments": {},
   "cell_type": "markdown",
   "metadata": {},
   "source": [
    "*Note: because we did not specify a value for **laytyp**, Flopy will use the default value of 0, which means this model will be confined.*"
   ]
  },
  {
   "attachments": {},
   "cell_type": "markdown",
   "metadata": {},
   "source": [
    "### 5. Output Control (OC)\n",
    "##### 5.1 Use default OC settings"
   ]
  },
  {
   "cell_type": "code",
   "execution_count": 11,
   "metadata": {},
   "outputs": [],
   "source": [
    "#==== Use stress period dictionary to set what output is saved ===============\n",
    "spd = {(0,0): ['print head', 'print budget', 'save head', 'save budget']}\n",
    "\n",
    "oc  = flopy.modflow.ModflowOc(mf, stress_period_data=spd, compact=True)"
   ]
  },
  {
   "attachments": {},
   "cell_type": "markdown",
   "metadata": {},
   "source": [
    "*Note: The tuple (0,0) means that stress peopd 1 and time step 1 for MODFLOW will have output saved. Head and budgets will be printed, and head and budget information will be saved.*\n",
    "\n",
    "### 6. Preconditioned Conjugate Gradient Package (PCG)\n",
    "##### 6.1 Use default PCG settings "
   ]
  },
  {
   "cell_type": "code",
   "execution_count": 12,
   "metadata": {},
   "outputs": [],
   "source": [
    "pcg = flopy.modflow.ModflowPcg(mf)"
   ]
  },
  {
   "attachments": {},
   "cell_type": "markdown",
   "metadata": {},
   "source": [
    "### 7. Write MODFLOW input data files\n",
    "##### 7.1 Need to command this step"
   ]
  },
  {
   "cell_type": "code",
   "execution_count": 13,
   "metadata": {},
   "outputs": [],
   "source": [
    "mf.write_input()"
   ]
  },
  {
   "attachments": {},
   "cell_type": "markdown",
   "metadata": {},
   "source": [
    "### 8. Run the model\n",
    "##### 8.1 Specify the name of the executable program and run model"
   ]
  },
  {
   "cell_type": "code",
   "execution_count": 15,
   "metadata": {},
   "outputs": [
    {
     "name": "stdout",
     "output_type": "stream",
     "text": [
      "FloPy is using the following executable to run the model: ../basinModel/mf2005.exe\n",
      "\n",
      "                                  MODFLOW-2005     \n",
      "    U.S. GEOLOGICAL SURVEY MODULAR FINITE-DIFFERENCE GROUND-WATER FLOW MODEL\n",
      "                             Version 1.11.00 8/8/2013                        \n",
      "\n",
      " Using NAME file: tutorial01_mf.nam \n",
      " Run start date and time (yyyy/mm/dd hh:mm:ss): 2023/05/11 15:48:12\n",
      "\n",
      " Solving:  Stress period:     1    Time step:     1    Ground-Water Flow Eqn.\n",
      " Run end date and time (yyyy/mm/dd hh:mm:ss): 2023/05/11 15:48:12\n",
      " Elapsed run time:  0.084 Seconds\n",
      "\n",
      "  Normal termination of simulation\n"
     ]
    }
   ],
   "source": [
    "success, buff = mf.run_model()\n",
    "if not success:\n",
    "    raise Exception('MODFLOW did not terminate normally.')"
   ]
  },
  {
   "attachments": {},
   "cell_type": "markdown",
   "metadata": {},
   "source": [
    "## Part 2\n",
    "### 2.1 Post-processing results"
   ]
  },
  {
   "cell_type": "code",
   "execution_count": 16,
   "metadata": {},
   "outputs": [],
   "source": [
    "import matplotlib.pyplot as plt\n",
    "import flopy.utils.binaryfile as bf"
   ]
  },
  {
   "attachments": {},
   "cell_type": "markdown",
   "metadata": {},
   "source": [
    "##### 2.1.1 Extract the heads"
   ]
  },
  {
   "cell_type": "code",
   "execution_count": 17,
   "metadata": {},
   "outputs": [],
   "source": [
    "#==== Specify name of the heads output file ==================================\n",
    "hds  = bf.HeadFile(modelname + \".hds\")\n",
    "#==== Extract heads data and assign to object ================================\n",
    "head = hds.get_data(totim=1.0)"
   ]
  },
  {
   "attachments": {},
   "cell_type": "markdown",
   "metadata": {},
   "source": [
    "##### 2.1.2 Contour the heads"
   ]
  },
  {
   "cell_type": "code",
   "execution_count": 18,
   "metadata": {},
   "outputs": [
    {
     "data": {
      "text/plain": [
       "<matplotlib.contour.QuadContourSet at 0x1ce2cb42580>"
      ]
     },
     "execution_count": 18,
     "metadata": {},
     "output_type": "execute_result"
    },
    {
     "data": {
      "image/png": "[encoded data removed]",
      "text/plain": [
       "<Figure size 432x432 with 1 Axes>"
      ]
     },
     "metadata": {
      "needs_background": "light"
     },
     "output_type": "display_data"
    }
   ],
   "source": [
    "extent = (delr/2.0, Lx - delr/2.0, Ly - delc/2.0, delc/2.0)\n",
    "fig = plt.figure(figsize=(6,6))\n",
    "ax = fig.add_subplot(1,1,1, aspect='equal')\n",
    "ax.contour(head[0,:,:], levels=np.arange(1,10,1), extent=extent)"
   ]
  },
  {
   "cell_type": "code",
   "execution_count": null,
   "metadata": {},
   "outputs": [],
   "source": []
  }
 ],
 "metadata": {
  "kernelspec": {
   "display_name": "gwmod",
   "language": "python",
   "name": "python3"
  },
  "language_info": {
   "codemirror_mode": {
    "name": "ipython",
    "version": 3
   },
   "file_extension": ".py",
   "mimetype": "text/x-python",
   "name": "python",
   "nbconvert_exporter": "python",
   "pygments_lexer": "ipython3",
   "version": "3.8.12"
  },
  "orig_nbformat": 4
 },
 "nbformat": 4,
 "nbformat_minor": 2
}
